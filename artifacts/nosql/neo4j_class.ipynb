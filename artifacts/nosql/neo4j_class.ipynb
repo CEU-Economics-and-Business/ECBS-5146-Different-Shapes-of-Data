{
 "cells": [
  {
   "cell_type": "code",
   "execution_count": 1,
   "id": "0cbc64c3-1696-4513-bec7-67b7b93f6e75",
   "metadata": {},
   "outputs": [],
   "source": [
    "from neo4j import GraphDatabase, basic_auth\n",
    "\n",
    "driver = GraphDatabase.driver(\"neo4j://18.208.109.82:7687\", auth=basic_auth(\"neo4j\", \"overlays-consoles-regulations\"))"
   ]
  },
  {
   "cell_type": "code",
   "execution_count": 2,
   "id": "84534e34-3acf-4dd2-b8e6-471541df6425",
   "metadata": {},
   "outputs": [
    {
     "name": "stdout",
     "output_type": "stream",
     "text": [
      "Hammerle - Manfred\n",
      "Pucher - Andrew\n",
      "Bednarek - Philippe\n",
      "Bartalos - Jeno\n",
      "Jaloveczki - Laszlo\n",
      "Kerese - Istvan\n",
      "Kalocsai - Zsolt\n",
      "Kovacs - Laszlo\n",
      "Maczinko - Istvan\n",
      "Stoger - Katalin\n"
     ]
    }
   ],
   "source": [
    "cypher_query = '''\n",
    "MATCH (o:Officer)\n",
    "WHERE o.countries CONTAINS $country\n",
    "RETURN o.name as name\n",
    "LIMIT 10\n",
    "'''\n",
    "\n",
    "with driver.session(database=\"neo4j\") as session:\n",
    "  results = session.execute_read(lambda tx: tx.run(cypher_query,country=\"Hungary\").data())\n",
    "    \n",
    "  for record in results:\n",
    "    print(record['name'])"
   ]
  },
  {
   "cell_type": "code",
   "execution_count": 3,
   "id": "c97e1520-a39f-4617-ad6f-d68afa964aeb",
   "metadata": {},
   "outputs": [],
   "source": [
    "driver.close()"
   ]
  },
  {
   "cell_type": "code",
   "execution_count": null,
   "id": "1885038b-0f43-4f7d-ad52-361c9a40278b",
   "metadata": {},
   "outputs": [],
   "source": []
  }
 ],
 "metadata": {
  "kernelspec": {
   "display_name": "Python 3 (ipykernel)",
   "language": "python",
   "name": "python3"
  },
  "language_info": {
   "codemirror_mode": {
    "name": "ipython",
    "version": 3
   },
   "file_extension": ".py",
   "mimetype": "text/x-python",
   "name": "python",
   "nbconvert_exporter": "python",
   "pygments_lexer": "ipython3",
   "version": "3.10.10"
  }
 },
 "nbformat": 4,
 "nbformat_minor": 5
}
