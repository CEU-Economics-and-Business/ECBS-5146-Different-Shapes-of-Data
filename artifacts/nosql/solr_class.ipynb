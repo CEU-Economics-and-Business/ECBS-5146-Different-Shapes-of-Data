{
 "cells": [
  {
   "cell_type": "code",
   "execution_count": null,
   "id": "9c5ce2a5-7963-41cd-b325-970452fe417b",
   "metadata": {},
   "outputs": [],
   "source": [
    "import pysolr\n",
    "from requests.auth import HTTPBasicAuth\n",
    "import pprint\n",
    "\n",
    "solr = pysolr.Solr('http://localhost:8081/solr/flightdelays',auth=HTTPBasicAuth('dsd','ceudsd333'))"
   ]
  },
  {
   "cell_type": "code",
   "execution_count": null,
   "id": "467411d4-f577-41f5-b93d-a474c4873857",
   "metadata": {
    "scrolled": true
   },
   "outputs": [],
   "source": [
    "#first 10 records\n",
    "\n",
    "results = solr.search('*:*')\n",
    "for result in results:\n",
    "    pprint.pprint(result)"
   ]
  },
  {
   "cell_type": "code",
   "execution_count": null,
   "id": "146685d5-afd0-404c-8ec9-a47cd2b88f69",
   "metadata": {},
   "outputs": [],
   "source": [
    "#list records from the last 10 years where tail number is N520JB:\n",
    "\n",
    "results = solr.search('TAIL_NUMBER:N838UA AND DATE:[NOW-10YEARS TO *]',fl=\"DISTANCE,ORIG_CITY,DEST_CITY\",sort=\"DISTANCE desc\",rows=10)\n",
    "for result in results:\n",
    "    pprint.pp(result,width=50)"
   ]
  },
  {
   "cell_type": "code",
   "execution_count": null,
   "id": "9e43d32b-bc94-4a88-8d2d-5d3476397ca3",
   "metadata": {},
   "outputs": [],
   "source": []
  },
  {
   "cell_type": "code",
   "execution_count": null,
   "id": "04a6bae7-e5eb-4e96-9d31-b894b4ba0b4a",
   "metadata": {},
   "outputs": [],
   "source": []
  }
 ],
 "metadata": {
  "kernelspec": {
   "display_name": "Python 3 (ipykernel)",
   "language": "python",
   "name": "python3"
  },
  "language_info": {
   "codemirror_mode": {
    "name": "ipython",
    "version": 3
   },
   "file_extension": ".py",
   "mimetype": "text/x-python",
   "name": "python",
   "nbconvert_exporter": "python",
   "pygments_lexer": "ipython3",
   "version": "3.10.10"
  }
 },
 "nbformat": 4,
 "nbformat_minor": 5
}
