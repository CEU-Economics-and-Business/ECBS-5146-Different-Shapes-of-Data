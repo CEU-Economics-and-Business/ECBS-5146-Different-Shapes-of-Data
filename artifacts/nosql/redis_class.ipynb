{
 "cells": [
  {
   "cell_type": "code",
   "execution_count": 19,
   "id": "2aae31d4-fe16-478e-8bc3-ce4aaf8b0ff8",
   "metadata": {
    "editable": true,
    "slideshow": {
     "slide_type": ""
    },
    "tags": []
   },
   "outputs": [],
   "source": [
    "#launcher terminal run: sudo -E pip install redis\n",
    "\n",
    "#connect\n",
    "import redis\n",
    "r = redis.Redis(host='localhost', port=8082)"
   ]
  },
  {
   "cell_type": "code",
   "execution_count": 20,
   "id": "c7763776-5c1a-449c-954b-bf7a61c7d43c",
   "metadata": {},
   "outputs": [
    {
     "data": {
      "text/plain": [
       "True"
      ]
     },
     "execution_count": 20,
     "metadata": {},
     "output_type": "execute_result"
    }
   ],
   "source": [
    "r.set('laszlo_sallo', 'bar')"
   ]
  },
  {
   "cell_type": "code",
   "execution_count": 21,
   "id": "c0a8bfe1-0d2c-4a0a-9654-d0e1cbe5ceef",
   "metadata": {},
   "outputs": [
    {
     "data": {
      "text/plain": [
       "b'bar'"
      ]
     },
     "execution_count": 21,
     "metadata": {},
     "output_type": "execute_result"
    }
   ],
   "source": [
    "r.get('laszlo_sallo')"
   ]
  },
  {
   "cell_type": "code",
   "execution_count": 26,
   "id": "e6f32aa2-80c3-4cf1-89ea-b9f5f8c8e6f8",
   "metadata": {},
   "outputs": [
    {
     "data": {
      "text/plain": [
       "True"
      ]
     },
     "execution_count": 26,
     "metadata": {},
     "output_type": "execute_result"
    }
   ],
   "source": [
    "#overwrite with expiration\n",
    "r.set('laszlo_sallo','efwefwefgwerg',ex=5)"
   ]
  },
  {
   "cell_type": "code",
   "execution_count": 28,
   "id": "dc5218a7-1788-4063-b1c2-7409343688ca",
   "metadata": {},
   "outputs": [],
   "source": [
    "r.get('laszlo_sallo')"
   ]
  },
  {
   "cell_type": "code",
   "execution_count": 25,
   "id": "1f92557a-b50d-437b-98e1-833e93cb588e",
   "metadata": {},
   "outputs": [
    {
     "data": {
      "text/plain": [
       "b'10'"
      ]
     },
     "execution_count": 25,
     "metadata": {},
     "output_type": "execute_result"
    }
   ],
   "source": [
    "#store a number\n",
    "r.set('laszlo_sallo_nr', 10)\n",
    "r.get('laszlo_sallo_nr')"
   ]
  },
  {
   "cell_type": "code",
   "execution_count": null,
   "id": "47c86c81-42f5-4ade-b32e-f56c93244103",
   "metadata": {},
   "outputs": [],
   "source": [
    "#increase the number\n",
    "r.incr(\"laszlo_sallo_nr\")\n",
    "r.get('laszlo_sallo_nr')"
   ]
  },
  {
   "cell_type": "code",
   "execution_count": null,
   "id": "a0b55863-7990-42d6-a725-72a87b2577c4",
   "metadata": {},
   "outputs": [],
   "source": [
    "#store multiple key-value\n",
    "r.mset({'laszlo_sallo_one': 1, 'laszlo_sallo_two': 2, 'laszlo_sallo_three': 3})"
   ]
  },
  {
   "cell_type": "code",
   "execution_count": null,
   "id": "98c00773-ae5d-4149-9f4f-5f1c0c10e7cd",
   "metadata": {
    "editable": true,
    "slideshow": {
     "slide_type": ""
    },
    "tags": []
   },
   "outputs": [],
   "source": [
    "r.keys()"
   ]
  },
  {
   "cell_type": "code",
   "execution_count": null,
   "id": "92e464f1-803c-4de4-abf4-c6799be8ff05",
   "metadata": {
    "editable": true,
    "scrolled": true,
    "slideshow": {
     "slide_type": ""
    },
    "tags": []
   },
   "outputs": [],
   "source": [
    "#retrive multiple values\n",
    "r.mget('laszlo_sallo_one','laszlo_sallo_three')"
   ]
  },
  {
   "cell_type": "code",
   "execution_count": null,
   "id": "f134798f-e0aa-4e83-8be7-b10faeee3f0e",
   "metadata": {},
   "outputs": [],
   "source": []
  }
 ],
 "metadata": {
  "kernelspec": {
   "display_name": "Python 3 (ipykernel)",
   "language": "python",
   "name": "python3"
  },
  "language_info": {
   "codemirror_mode": {
    "name": "ipython",
    "version": 3
   },
   "file_extension": ".py",
   "mimetype": "text/x-python",
   "name": "python",
   "nbconvert_exporter": "python",
   "pygments_lexer": "ipython3",
   "version": "3.10.10"
  }
 },
 "nbformat": 4,
 "nbformat_minor": 5
}
