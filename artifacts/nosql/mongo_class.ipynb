{
 "cells": [
  {
   "cell_type": "code",
   "execution_count": 1,
   "id": "b12a8299-ca11-4f23-8e86-55dc42319f29",
   "metadata": {
    "editable": true,
    "slideshow": {
     "slide_type": ""
    },
    "tags": []
   },
   "outputs": [],
   "source": [
    "#launcher terminal run: sudo -E pip install pymongo\n",
    "\n",
    "#connect\n",
    "import pymongo\n",
    "import pprint\n",
    "mongo = pymongo.MongoClient(\"mongodb://localhost:27017\")"
   ]
  },
  {
   "cell_type": "code",
   "execution_count": 2,
   "id": "6f91ff0e-9835-4d5e-89e6-8b4b1a3cd2b2",
   "metadata": {},
   "outputs": [],
   "source": [
    "#select a database and a collection\n",
    "db = mongo[\"mydatabase\"]"
   ]
  },
  {
   "cell_type": "code",
   "execution_count": 3,
   "id": "85c10132-ae59-43e1-a8b0-55e1158180f5",
   "metadata": {},
   "outputs": [],
   "source": [
    "#create a new collection\n",
    "customers = db[\"laszlo_sallo\"]"
   ]
  },
  {
   "cell_type": "code",
   "execution_count": 4,
   "id": "55a85311-ae6f-4791-85ed-d956f18b5568",
   "metadata": {},
   "outputs": [],
   "source": [
    "#insert a row into the new collection\n",
    "id = customers.insert_one({ \"name\": \"John\", \"address\": \"Boston Highway 37\" }).inserted_id"
   ]
  },
  {
   "cell_type": "code",
   "execution_count": 5,
   "id": "44c56099-f541-406c-8fc1-97512937d480",
   "metadata": {},
   "outputs": [
    {
     "name": "stdout",
     "output_type": "stream",
     "text": [
      "{'_id': ObjectId('670eaff2e5a2bd3deb31a9cf'),\n",
      " 'address': 'Boston Highway 37',\n",
      " 'name': 'John'}\n"
     ]
    }
   ],
   "source": [
    "#print the insterted row\n",
    "pprint.pprint(customers.find_one({\"_id\": id}))"
   ]
  },
  {
   "cell_type": "code",
   "execution_count": 6,
   "id": "a6b9d321-c94b-418d-a727-a1b2f8145e40",
   "metadata": {},
   "outputs": [],
   "source": [
    "#insert a row with another John into the new collection\n",
    "id = customers.insert_one({ \"name\": \"John\", \"address\": \"Boole 01\" }).inserted_id"
   ]
  },
  {
   "cell_type": "code",
   "execution_count": 7,
   "id": "8285da1e-c739-4106-877c-973362302bb7",
   "metadata": {},
   "outputs": [
    {
     "data": {
      "text/plain": [
       "8"
      ]
     },
     "execution_count": 7,
     "metadata": {},
     "output_type": "execute_result"
    }
   ],
   "source": [
    "#count the documents in the customers collection\n",
    "customers.count_documents({\"name\": \"John\"})"
   ]
  },
  {
   "cell_type": "code",
   "execution_count": 8,
   "id": "155aacaf-92bc-414a-8f7e-64a187a1b511",
   "metadata": {},
   "outputs": [
    {
     "name": "stdout",
     "output_type": "stream",
     "text": [
      "'Boole 01'\n",
      "'Boston Highway 37'\n"
     ]
    }
   ],
   "source": [
    "#find the customers called “John” which address starts with “Bo” and print out distinct addresses.\n",
    "for customer in customers.find({\"name\":\"John\",\"address\": {\"$regex\": \"^Bo\"}}).distinct(\"address\"):\n",
    "    pprint.pprint(customer)"
   ]
  },
  {
   "cell_type": "code",
   "execution_count": null,
   "id": "b0875e7c-99f1-4dbc-9772-ff0e951f3dd3",
   "metadata": {},
   "outputs": [],
   "source": [
    "#list collections stored in the database\n",
    "db.list_collection_names()"
   ]
  },
  {
   "cell_type": "code",
   "execution_count": null,
   "id": "db61faf3-74b8-4be9-ada3-f8fb1c9792fb",
   "metadata": {},
   "outputs": [],
   "source": [
    "airbnb = db[\"airbnb\"]"
   ]
  },
  {
   "cell_type": "code",
   "execution_count": null,
   "id": "1955f5b7-da7d-4084-9bdf-7afe11ffc1de",
   "metadata": {},
   "outputs": [],
   "source": [
    "#print first row\n",
    "pprint.pprint(airbnb.find_one())"
   ]
  },
  {
   "cell_type": "code",
   "execution_count": null,
   "id": "70983bb2-d636-468e-b799-576cf348d90d",
   "metadata": {},
   "outputs": [],
   "source": [
    "#get first 3 entries from Spain and display latitude part of the coordinate\n",
    "for listing in airbnb.find({ \"address.country\": \"Spain\" }).limit(3):\n",
    "    #pprint.pprint(listing)\n",
    "    pprint.pprint(listing['address']['location']['coordinates'][1])"
   ]
  },
  {
   "cell_type": "code",
   "execution_count": null,
   "id": "e59f5d54-8e7e-41da-a9e7-21873f24c093",
   "metadata": {},
   "outputs": [],
   "source": [
    "#Exercise: Count how many Airbnb listings we have in the sample database where \"address.country_code\" \"US\" OR \"address.market\" startwith \"M\" (Use MongoDB documentation like https://docs.mongodb.com/manual/)"
   ]
  }
 ],
 "metadata": {
  "kernelspec": {
   "display_name": "Python 3 (ipykernel)",
   "language": "python",
   "name": "python3"
  },
  "language_info": {
   "codemirror_mode": {
    "name": "ipython",
    "version": 3
   },
   "file_extension": ".py",
   "mimetype": "text/x-python",
   "name": "python",
   "nbconvert_exporter": "python",
   "pygments_lexer": "ipython3",
   "version": "3.10.10"
  }
 },
 "nbformat": 4,
 "nbformat_minor": 5
}
